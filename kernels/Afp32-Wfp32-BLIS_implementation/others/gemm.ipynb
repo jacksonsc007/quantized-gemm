{
 "cells": [
  {
   "cell_type": "code",
   "execution_count": 1,
   "metadata": {},
   "outputs": [
    {
     "name": "stdout",
     "output_type": "stream",
     "text": [
      "{'Kc': 2000, 'Nc': 1536, 'Mc': 1024, 'Mr': 16, 'Nr': 6}\n"
     ]
    }
   ],
   "source": [
    "B = 8\n",
    "KB = 1024 * B\n",
    "MB = 1024 * KB\n",
    "float_size = 4 * B\n",
    "\n",
    "# Register level\n",
    "Mr = 16\n",
    "Nr = 6\n",
    "\n",
    "# cache level\n",
    "Kc = 2000\n",
    "Nc = Nr * 256\n",
    "Mc = Mr * 64\n",
    "setting = {\n",
    "    'Kc': Kc,\n",
    "    'Nc': Nc,\n",
    "    'Mc': Mc,\n",
    "    'Mr': Mr,\n",
    "    'Nr': Nr\n",
    "}\n",
    "print(setting)"
   ]
  },
  {
   "cell_type": "code",
   "execution_count": 2,
   "metadata": {},
   "outputs": [],
   "source": [
    "import pandas as pd\n",
    "\n",
    "def draw_table(specification, setting):\n",
    "    L1_cap = specification['L1']\n",
    "    L2_cap = specification['L2']\n",
    "    L3_cap = specification['L3']\n",
    "    # Calculate the used cache\n",
    "    Kc = setting['Kc']\n",
    "    Nr = setting['Nr']\n",
    "    # Mr = setting['Mr']\n",
    "    Nc = setting['Nc']\n",
    "\n",
    "    L1_used = Kc * Nr * float_size\n",
    "    L2_used = Kc * Mc * float_size\n",
    "    L3_used = Kc * Nc * float_size\n",
    "    L1_used_percent = L1_used / L1_cap * 100\n",
    "    L2_used_percent = L2_used / L2_cap * 100\n",
    "    L3_used_percent = L3_used / L3_cap * 100\n",
    "    # Create a dictionary for the DataFrame\n",
    "    data = {\n",
    "        'Cache Level': ['L1', 'L2', 'L3'],\n",
    "        'Capacity (MB)': [L1_cap / MB, L2_cap / MB, L3_cap / MB],\n",
    "        'Used (MB)': [L1_used / MB, L2_used / MB, L3_used / MB],\n",
    "        'Used Percent (%)': [L1_used_percent, L2_used_percent, L3_used_percent]\n",
    "    }\n",
    "\n",
    "    # Create DataFrame\n",
    "    df = pd.DataFrame(data)\n",
    "    return df"
   ]
  },
  {
   "cell_type": "code",
   "execution_count": 3,
   "metadata": {},
   "outputs": [
    {
     "name": "stdout",
     "output_type": "stream",
     "text": [
      "  Cache Level  Capacity (MB)  Used (MB)  Used Percent (%)\n",
      "0          L1       0.078125   0.045776         58.593750\n",
      "1          L2       1.000000   7.812500        781.250000\n",
      "2          L3      32.000000  11.718750         36.621094\n"
     ]
    }
   ],
   "source": [
    "# R7 9700X\n",
    "L3_cap = 32 * MB \n",
    "L2_cap = 1 * MB\n",
    "L1_cap = 80 * KB # per core\n",
    "\n",
    "# Create a dictionary\n",
    "specification = {\n",
    "    'L3': L3_cap,\n",
    "    'L2': L2_cap,\n",
    "    'L1': L1_cap\n",
    "}\n",
    "res_for_r7 = draw_table(specification, setting)\n",
    "print(res_for_r7)"
   ]
  },
  {
   "cell_type": "code",
   "execution_count": 4,
   "metadata": {},
   "outputs": [
    {
     "name": "stdout",
     "output_type": "stream",
     "text": [
      "  Cache Level  Capacity (MB)  Used (MB)  Used Percent (%)\n",
      "0          L1       0.078125   0.045776         58.593750\n",
      "1          L2       2.000000   7.812500        390.625000\n",
      "2          L3      24.000000  11.718750         48.828125\n"
     ]
    }
   ],
   "source": [
    "# 13600kf\n",
    "L3_cap = 24 * MB \n",
    "L2_cap = 2 * MB\n",
    "L1_cap = 80 * KB\n",
    "specification = {\n",
    "    'L3': L3_cap,\n",
    "    'L2': L2_cap,\n",
    "    'L1': L1_cap\n",
    "}\n",
    "res_for_136 = draw_table(specification, setting)\n",
    "print(res_for_136)"
   ]
  },
  {
   "cell_type": "code",
   "execution_count": 5,
   "metadata": {},
   "outputs": [
    {
     "name": "stdout",
     "output_type": "stream",
     "text": [
      "  Cache Level  Capacity (MB)  Used (MB)  Used Percent (%)\n",
      "0          L1       0.078125   0.011444         14.648438\n",
      "1          L2       2.000000   1.953125         97.656250\n",
      "2          L3      24.000000   0.286102          1.192093\n"
     ]
    }
   ],
   "source": [
    "# 13600kf\n",
    "setting = {\n",
    "    'Kc': 500,\n",
    "    'Nc': Nr * 25,\n",
    "    'Mc': Mr * 11,\n",
    "    'Mr': Mr,\n",
    "    'Nr': Nr\n",
    "}\n",
    "res_for_136 = draw_table(specification, setting)\n",
    "print(res_for_136)"
   ]
  },
  {
   "cell_type": "code",
   "execution_count": 1,
   "metadata": {},
   "outputs": [
    {
     "data": {
      "text/plain": [
       "38.857142857142854"
      ]
     },
     "execution_count": 1,
     "metadata": {},
     "output_type": "execute_result"
    }
   ],
   "source": [
    "544/14"
   ]
  },
  {
   "cell_type": "code",
   "execution_count": 2,
   "metadata": {},
   "outputs": [
    {
     "data": {
      "text/plain": [
       "89.14285714285714"
      ]
     },
     "execution_count": 2,
     "metadata": {},
     "output_type": "execute_result"
    }
   ],
   "source": [
    "(544+704)/14"
   ]
  },
  {
   "cell_type": "code",
   "execution_count": null,
   "metadata": {},
   "outputs": [],
   "source": []
  }
 ],
 "metadata": {
  "kernelspec": {
   "display_name": "langchain",
   "language": "python",
   "name": "python3"
  },
  "language_info": {
   "codemirror_mode": {
    "name": "ipython",
    "version": 3
   },
   "file_extension": ".py",
   "mimetype": "text/x-python",
   "name": "python",
   "nbconvert_exporter": "python",
   "pygments_lexer": "ipython3",
   "version": "3.10.0"
  }
 },
 "nbformat": 4,
 "nbformat_minor": 2
}
