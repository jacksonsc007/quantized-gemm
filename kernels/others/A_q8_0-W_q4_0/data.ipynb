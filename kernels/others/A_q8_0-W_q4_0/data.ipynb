{
 "cells": [
  {
   "cell_type": "code",
   "execution_count": 1,
   "metadata": {},
   "outputs": [
    {
     "name": "stdout",
     "output_type": "stream",
     "text": [
      "int: min = -9223372036854775808, max = 9223372036854775807\n",
      "float: min = -1.7976931348623157e+308, max = 1.7976931348623157e+308\n",
      "numpy int8: min = -128, max = 127\n",
      "numpy int16: min = -32768, max = 32767\n",
      "numpy int32: min = -2147483648, max = 2147483647\n",
      "numpy int64: min = -9223372036854775808, max = 9223372036854775807\n",
      "numpy uint8: min = 0, max = 255\n",
      "numpy uint16: min = 0, max = 65535\n",
      "numpy uint32: min = 0, max = 4294967295\n",
      "numpy uint64: min = 0, max = 18446744073709551615\n",
      "numpy float16: min = -65504.0, max = 65504.0\n",
      "numpy float32: min = -3.4028234663852886e+38, max = 3.4028234663852886e+38\n",
      "numpy float64: min = -1.7976931348623157e+308, max = 1.7976931348623157e+308\n"
     ]
    }
   ],
   "source": [
    "import sys\n",
    "import numpy as np\n",
    "\n",
    "def list_max_min_values():\n",
    "    data_types = {\n",
    "        'int': {'min': -sys.maxsize - 1, 'max': sys.maxsize},\n",
    "        'float': {'min': -sys.float_info.max, 'max': sys.float_info.max},\n",
    "        'numpy int8': {'min': np.iinfo(np.int8).min, 'max': np.iinfo(np.int8).max},\n",
    "        'numpy int16': {'min': np.iinfo(np.int16).min, 'max': np.iinfo(np.int16).max},\n",
    "        'numpy int32': {'min': np.iinfo(np.int32).min, 'max': np.iinfo(np.int32).max},\n",
    "        'numpy int64': {'min': np.iinfo(np.int64).min, 'max': np.iinfo(np.int64).max},\n",
    "        'numpy uint8': {'min': np.iinfo(np.uint8).min, 'max': np.iinfo(np.uint8).max},\n",
    "        'numpy uint16': {'min': np.iinfo(np.uint16).min, 'max': np.iinfo(np.uint16).max},\n",
    "        'numpy uint32': {'min': np.iinfo(np.uint32).min, 'max': np.iinfo(np.uint32).max},\n",
    "        'numpy uint64': {'min': np.iinfo(np.uint64).min, 'max': np.iinfo(np.uint64).max},\n",
    "        'numpy float16': {'min': -np.finfo(np.float16).max, 'max': np.finfo(np.float16).max},\n",
    "        'numpy float32': {'min': -np.finfo(np.float32).max, 'max': np.finfo(np.float32).max},\n",
    "        'numpy float64': {'min': -np.finfo(np.float64).max, 'max': np.finfo(np.float64).max},\n",
    "    }\n",
    "    \n",
    "    for dtype, values in data_types.items():\n",
    "        print(f\"{dtype}: min = {values['min']}, max = {values['max']}\")\n",
    "\n",
    "if __name__ == \"__main__\":\n",
    "    list_max_min_values()"
   ]
  },
  {
   "cell_type": "code",
   "execution_count": 4,
   "metadata": {},
   "outputs": [
    {
     "name": "stdout",
     "output_type": "stream",
     "text": [
      "int8_max * int8_max =  16129\n",
      "int16 max =  32767\n",
      "uint8_max * uint8_max =  65025\n",
      "uint16 max =  65535\n"
     ]
    }
   ],
   "source": [
    "int8_max = np.iinfo(np.int8).max\n",
    "int16_max = np.iinfo(np.int16).max\n",
    "print(\"int8_max * int8_max = \",int8_max * int8_max)\n",
    "print(\"int16 max = \", int16_max)\n",
    "\n",
    "uint8_max = np.iinfo(np.uint8).max\n",
    "uint16_max = np.iinfo(np.uint16).max\n",
    "print(\"uint8_max * uint8_max = \",uint8_max * uint8_max)\n",
    "print(\"uint16 max = \", uint16_max)"
   ]
  },
  {
   "cell_type": "code",
   "execution_count": 6,
   "metadata": {},
   "outputs": [
    {
     "name": "stdout",
     "output_type": "stream",
     "text": [
      "Binary representation of int8 values from -8 to 7:\n",
      "-8: 11111000\n",
      "-7: 11111001\n",
      "-6: 11111010\n",
      "-5: 11111011\n",
      "-4: 11111100\n",
      "-3: 11111101\n",
      "-2: 11111110\n",
      "-1: 11111111\n",
      "0: 00000000\n",
      "1: 00000001\n",
      "2: 00000010\n",
      "3: 00000011\n",
      "4: 00000100\n",
      "5: 00000101\n",
      "6: 00000110\n",
      "7: 00000111\n"
     ]
    }
   ],
   "source": [
    "def print_int8_binary():\n",
    "    print(\"Binary representation of int8 values from -8 to 7:\")\n",
    "    for i in range(-8, 8):\n",
    "        binary = format(np.int8(i) & 0xFF, '08b')\n",
    "        print(f\"{i}: {binary}\")\n",
    "print_int8_binary()"
   ]
  },
  {
   "cell_type": "code",
   "execution_count": 10,
   "metadata": {},
   "outputs": [
    {
     "name": "stdout",
     "output_type": "stream",
     "text": [
      "-111\n",
      "-111: 10010001\n"
     ]
    }
   ],
   "source": [
    "\n",
    "i = -111\n",
    "print(i)\n",
    "binary = format(np.int8(i) & 0xFF, '08b')\n",
    "print(f\"{i}: {binary}\")"
   ]
  },
  {
   "cell_type": "code",
   "execution_count": null,
   "metadata": {},
   "outputs": [
    {
     "name": "stdout",
     "output_type": "stream",
     "text": [
      "00000001\n"
     ]
    }
   ],
   "source": [
    "\n",
    "binary = format(np.int8(i) & 0x0F, '08b')\n",
    "print(f\"{binary}\")  "
   ]
  },
  {
   "cell_type": "code",
   "execution_count": 13,
   "metadata": {},
   "outputs": [
    {
     "name": "stdout",
     "output_type": "stream",
     "text": [
      "-0000111\n"
     ]
    }
   ],
   "source": [
    "\n",
    "binary = format(np.int8(i) >> 4, '08b')\n",
    "print(f\"{binary}\")"
   ]
  },
  {
   "cell_type": "code",
   "execution_count": 1,
   "metadata": {},
   "outputs": [
    {
     "data": {
      "text/plain": [
       "65536"
      ]
     },
     "execution_count": 1,
     "metadata": {},
     "output_type": "execute_result"
    }
   ],
   "source": [
    "64 * 1024\n"
   ]
  },
  {
   "cell_type": "code",
   "execution_count": null,
   "metadata": {},
   "outputs": [],
   "source": []
  }
 ],
 "metadata": {
  "kernelspec": {
   "display_name": "trl",
   "language": "python",
   "name": "python3"
  },
  "language_info": {
   "codemirror_mode": {
    "name": "ipython",
    "version": 3
   },
   "file_extension": ".py",
   "mimetype": "text/x-python",
   "name": "python",
   "nbconvert_exporter": "python",
   "pygments_lexer": "ipython3",
   "version": "3.10.0"
  }
 },
 "nbformat": 4,
 "nbformat_minor": 2
}
